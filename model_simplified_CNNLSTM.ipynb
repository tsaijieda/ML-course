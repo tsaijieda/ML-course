{
 "cells": [
  {
   "cell_type": "markdown",
   "metadata": {
    "id": "JArjvQJKbY_l"
   },
   "source": [
    "**Import Essential Packages**"
   ]
  },
  {
   "cell_type": "code",
   "execution_count": 2,
   "metadata": {
    "executionInfo": {
     "elapsed": 3552,
     "status": "ok",
     "timestamp": 1732203494801,
     "user": {
      "displayName": "johnny",
      "userId": "11353553454886003464"
     },
     "user_tz": -480
    },
    "id": "fS5s3Y_FbY_m"
   },
   "outputs": [],
   "source": [
    "import numpy as np\n",
    "import torch\n",
    "import torch.nn as nn\n",
    "import torch.optim as optim\n",
    "from torch.utils.data import DataLoader, TensorDataset\n"
   ]
  },
  {
   "cell_type": "code",
   "execution_count": 3,
   "metadata": {
    "colab": {
     "base_uri": "https://localhost:8080/"
    },
    "executionInfo": {
     "elapsed": 27731,
     "status": "ok",
     "timestamp": 1732203522529,
     "user": {
      "displayName": "johnny",
      "userId": "11353553454886003464"
     },
     "user_tz": -480
    },
    "id": "XCmHzxMGbczx",
    "outputId": "f22fa1a9-fc85-41ca-9c2e-3d8faedff687"
   },
   "outputs": [
    {
     "name": "stdout",
     "output_type": "stream",
     "text": [
      "Mounted at /content/drive\n"
     ]
    }
   ],
   "source": [
    "from google.colab import drive\n",
    "drive.mount('/content/drive')"
   ]
  },
  {
   "cell_type": "markdown",
   "metadata": {
    "id": "uxaOJ_Q9bY_n"
   },
   "source": [
    "**Training, Testing, Validation sets**"
   ]
  },
  {
   "cell_type": "code",
   "execution_count": null,
   "metadata": {
    "executionInfo": {
     "elapsed": 496,
     "status": "ok",
     "timestamp": 1732205580757,
     "user": {
      "displayName": "johnny",
      "userId": "11353553454886003464"
     },
     "user_tz": -480
    },
    "id": "4hqIRd-LbY_n"
   },
   "outputs": [],
   "source": [
    "import pandas as pd\n",
    "import os\n",
    "import numpy as np\n",
    "from sklearn.model_selection import train_test_split\n",
    "from torch.utils.data import DataLoader, Dataset\n",
    "\n",
    "device = torch.device(\"cuda\" if torch.cuda.is_available() else \"cpu\")\n",
    "\n",
    "\n",
    "label_map = {\n",
    "    \"tetragonal\": 0,\n",
    "    \"orthorhombic\": 1,\n",
    "    \"trigonal\": 2,\n",
    "    \"cubic\": 3,\n",
    "    \"triclinic\": 4,\n",
    "    \"monoclinic\": 5,\n",
    "    \"hexagonal\": 6\n",
    "}\n",
    "\n",
    "# 讀取 csv 文件\n",
    "csv_path = \"/content/drive/MyDrive/xrd_training/structure_info.csv\"  # 替換為實際 csv 文件路徑\n",
    "# !unzip /content/drive/MyDrive/xrd_training/output_data.zip\n",
    "data_dir = \"/content/output_data\"  # 包含 .npz 文件的目錄\n",
    "df = pd.read_csv(csv_path)\n",
    "\n"
   ]
  },
  {
   "cell_type": "code",
   "execution_count": null,
   "metadata": {
    "colab": {
     "base_uri": "https://localhost:8080/"
    },
    "executionInfo": {
     "elapsed": 345,
     "status": "ok",
     "timestamp": 1732205587706,
     "user": {
      "displayName": "johnny",
      "userId": "11353553454886003464"
     },
     "user_tz": -480
    },
    "id": "y8IFh0_7pBky",
    "outputId": "8a6e1f42-08d5-4fb9-e135-8ea72a41c1f8"
   },
   "outputs": [
    {
     "name": "stdout",
     "output_type": "stream",
     "text": [
      "數據加載完成：\n",
      "訓練集樣本數: 20100\n",
      "測試集樣本數: 20100\n",
      "驗證集樣本數: 2405\n"
     ]
    }
   ],
   "source": [
    "def normalize_data(x):\n",
    "    mean = np.mean(x, axis=0)\n",
    "    std = np.std(x, axis=0)\n",
    "    return (x - mean) / (std + 1e-8)\n",
    "\n",
    "class small_XRD_Dataset(Dataset):\n",
    "    def __init__(self, file_list, data_dir):\n",
    "        self.file_list = file_list\n",
    "        self.data_dir = data_dir\n",
    "\n",
    "    def __len__(self):\n",
    "        return len(self.file_list)\n",
    "\n",
    "    def __getitem__(self, idx):\n",
    "        file_name, label = self.file_list[idx]\n",
    "\n",
    "        # 將 .cif 檔名更改為 .npz\n",
    "        file_name = file_name.replace('.cif', '_convolved.npz')\n",
    "\n",
    "        file_path = os.path.join(self.data_dir, file_name)\n",
    "        data = np.load(file_path)\n",
    "        x = np.stack((data['x_fine'], data['y_convolved']), axis=1).astype(np.float32)\n",
    "        # Map string label to integer index\n",
    "        label = label_map[label]\n",
    "        x = normalize_data(x)\n",
    "        x = x[::2]\n",
    "        return x, label\n",
    "\n",
    "# 分割數據集\n",
    "\n",
    "split_info = {\n",
    "    \"tetragonal\": (3000, 3000, 300),\n",
    "    \"orthorhombic\": (5000, 5000, 500),\n",
    "    \"trigonal\": (1000, 1000, 300),\n",
    "    \"cubic\": (5000, 5000, 500),\n",
    "    \"triclinic\": (1000, 1000, 300),\n",
    "    \"monoclinic\": (5000, 5000, 500),\n",
    "    \"hexagonal\": (100, 100, 5)\n",
    "}\n",
    "\n",
    "train_list, test_list, val_list = [], [], []\n",
    "\n",
    "for label, (train_size, test_size, val_size) in split_info.items():\n",
    "    files = df[df['cell_structure'] == label][['filename', 'cell_structure']].values.tolist()\n",
    "\n",
    "    # 分割成訓練、測試、驗證集\n",
    "    train_files, temp_files = train_test_split(files, train_size=train_size, random_state=42)\n",
    "    test_files, temp_files = train_test_split(temp_files, train_size=test_size, random_state=42)\n",
    "    val_files, temp_files = train_test_split(temp_files, train_size=val_size, random_state=42)\n",
    "\n",
    "    train_list.extend(train_files)\n",
    "    test_list.extend(test_files)\n",
    "    val_list.extend(val_files)\n",
    "\n",
    "# 創建 DataLoader\n",
    "batch_size = 32\n",
    "\n",
    "train_dataset = small_XRD_Dataset(train_list, data_dir)\n",
    "test_dataset = small_XRD_Dataset(test_list, data_dir)\n",
    "val_dataset = small_XRD_Dataset(val_list, data_dir)\n",
    "\n",
    "train_loader = DataLoader(train_dataset, batch_size=batch_size, shuffle=True)\n",
    "test_loader = DataLoader(test_dataset, batch_size=batch_size, shuffle=False)\n",
    "val_loader = DataLoader(val_dataset, batch_size=batch_size, shuffle=False)\n",
    "\n",
    "print(\"數據加載完成：\")\n",
    "print(f\"訓練集樣本數: {len(train_dataset)}\")\n",
    "print(f\"測試集樣本數: {len(test_dataset)}\")\n",
    "print(f\"驗證集樣本數: {len(val_dataset)}\")\n"
   ]
  },
  {
   "cell_type": "code",
   "execution_count": 6,
   "metadata": {
    "colab": {
     "base_uri": "https://localhost:8080/"
    },
    "executionInfo": {
     "elapsed": 345,
     "status": "ok",
     "timestamp": 1732203622317,
     "user": {
      "displayName": "johnny",
      "userId": "11353553454886003464"
     },
     "user_tz": -480
    },
    "id": "6Y324QpUm85h",
    "outputId": "bdddd6f7-cb0e-41c3-bd94-ebe56f4c2796"
   },
   "outputs": [
    {
     "name": "stdout",
     "output_type": "stream",
     "text": [
      "Number of batches in train_loader: 629\n"
     ]
    }
   ],
   "source": [
    "print(f\"Number of batches in train_loader: {len(train_loader)}\")"
   ]
  },
  {
   "cell_type": "code",
   "execution_count": 22,
   "metadata": {
    "colab": {
     "base_uri": "https://localhost:8080/"
    },
    "executionInfo": {
     "elapsed": 369,
     "status": "ok",
     "timestamp": 1732205593540,
     "user": {
      "displayName": "johnny",
      "userId": "11353553454886003464"
     },
     "user_tz": -480
    },
    "id": "LApZKOXungy1",
    "outputId": "fdfc3f35-ebbe-48ee-87de-31390a808c6b"
   },
   "outputs": [
    {
     "name": "stdout",
     "output_type": "stream",
     "text": [
      "Inputs shape: torch.Size([32, 8500, 2]), Labels shape: torch.Size([32])\n"
     ]
    }
   ],
   "source": [
    "for inputs, labels in train_loader:\n",
    "    inputs, labels = inputs.to(device), labels.to(device)\n",
    "    print(f\"Inputs shape: {inputs.shape}, Labels shape: {labels.shape}\")\n",
    "    break  # Only for verification"
   ]
  },
  {
   "cell_type": "code",
   "execution_count": null,
   "metadata": {
    "colab": {
     "base_uri": "https://localhost:8080/"
    },
    "executionInfo": {
     "elapsed": 373,
     "status": "ok",
     "timestamp": 1732203627528,
     "user": {
      "displayName": "johnny",
      "userId": "11353553454886003464"
     },
     "user_tz": -480
    },
    "id": "Lyi_YTMJJ4CP",
    "outputId": "dcae3831-00ec-460e-f97d-0b5e61deb682"
   },
   "outputs": [
    {
     "name": "stdout",
     "output_type": "stream",
     "text": [
      "cuda\n"
     ]
    }
   ],
   "source": [
    "device = torch.device(\"cuda\" if torch.cuda.is_available() else \"cpu\")\n",
    "print(device)"
   ]
  },
  {
   "cell_type": "markdown",
   "metadata": {
    "id": "XWdCH6vWbY_o"
   },
   "source": [
    "**Define Simplified CNN+LSTM Model**"
   ]
  },
  {
   "cell_type": "code",
   "execution_count": null,
   "metadata": {},
   "outputs": [],
   "source": [
    "import torch\n",
    "import torch.nn as nn\n",
    "\n",
    "class Simplified_CNN_BiLSTM(nn.Module):\n",
    "    def __init__(self, num_classes):\n",
    "        super(Simplified_CNN_BiLSTM, self).__init__()\n",
    "        # CNN 部分\n",
    "        self.conv1 = nn.Conv1d(in_channels=2, out_channels=32, kernel_size=5, padding=2)  # 輸入通道數 2\n",
    "        self.pool = nn.MaxPool1d(kernel_size=2)  # 長度減半\n",
    "        self.dropout = nn.Dropout(0.5)\n",
    "\n",
    "        # LSTM 部分\n",
    "        self.lstm = nn.LSTM(input_size=32, hidden_size=32, num_layers=1, batch_first=True, bidirectional=True)\n",
    "\n",
    "        # 全連接層\n",
    "        self.fc = nn.Linear(32 * 2, num_classes)  # BiLSTM 輸出雙向拼接\n",
    "\n",
    "    def forward(self, x):\n",
    "        # CNN\n",
    "        x = torch.relu(self.conv1(x))  # [batch_size, 32, 4250]\n",
    "        x = self.pool(x)  # [batch_size, 32, 2125]\n",
    "        x = self.dropout(x)\n",
    "\n",
    "        # LSTM\n",
    "        x = x.permute(0, 2, 1)  # [batch_size, 32, 2125] -> [batch_size, 2125, 32]\n",
    "        x, _ = self.lstm(x)  # [batch_size, 2125, 64]\n",
    "        x = x[:, -1, :]  # 取最後一個時間步的輸出 [batch_size, 64]\n",
    "\n",
    "        # 全連接層\n",
    "        x = self.fc(x)  # [batch_size, num_classes]\n",
    "        return x\n"
   ]
  },
  {
   "cell_type": "markdown",
   "metadata": {
    "id": "nMz5pNedbY_p"
   },
   "source": [
    "**Training**"
   ]
  },
  {
   "cell_type": "code",
   "execution_count": null,
   "metadata": {},
   "outputs": [],
   "source": [
    "def evaluate_epoch(model, data_loader, criterion):\n",
    "    \"\"\"\n",
    "    評估模型在數據集上的表現，計算平均損失和準確率。\n",
    "\n",
    "    Args:\n",
    "    - model (nn.Module): 待評估的 PyTorch 模型。\n",
    "    - data_loader (DataLoader): 驗證或測試集的數據加載器。\n",
    "    - criterion (nn.Module): 損失函數。\n",
    "\n",
    "    Returns:\n",
    "    - avg_loss (float): 在數據集上的平均損失。\n",
    "    - accuracy (float): 分類準確率 (0-1 範圍)。\n",
    "    \"\"\"\n",
    "    model.eval()  # 設置模型為評估模式\n",
    "    device = next(model.parameters()).device  # 獲取模型的設備\n",
    "    total_loss = 0.0\n",
    "    correct = 0\n",
    "    total = 0\n",
    "\n",
    "    with torch.no_grad():  # 關閉梯度計算以加速評估\n",
    "        for inputs, labels in data_loader:\n",
    "            # 將數據移動到設備（GPU 或 CPU）\n",
    "            inputs, labels = inputs.to(device), labels.to(device)\n",
    "            inputs = inputs.permute(0, 2, 1)  # (batch_size, 8500, 2) -> (batch_size, 2, 8500)\n",
    "\n",
    "            # 前向傳播\n",
    "            outputs = model(inputs)\n",
    "            loss = criterion(outputs, labels)\n",
    "\n",
    "            # 記錄損失\n",
    "            total_loss += loss.item()\n",
    "\n",
    "            # 計算準確率\n",
    "            _, predicted = torch.max(outputs, 1)\n",
    "            correct += (predicted == labels).sum().item()\n",
    "            total += labels.size(0)\n",
    "\n",
    "    # 平均損失\n",
    "    avg_loss = total_loss / len(data_loader)\n",
    "\n",
    "    # 準確率\n",
    "    accuracy = correct / total\n",
    "\n",
    "    return avg_loss, accuracy"
   ]
  },
  {
   "cell_type": "code",
   "execution_count": null,
   "metadata": {
    "colab": {
     "base_uri": "https://localhost:8080/"
    },
    "executionInfo": {
     "elapsed": 4081,
     "status": "ok",
     "timestamp": 1732203637763,
     "user": {
      "displayName": "johnny",
      "userId": "11353553454886003464"
     },
     "user_tz": -480
    },
    "id": "EIEzJTUibY_p",
    "outputId": "34589a76-ccce-42b7-c878-0a6a546ad99b"
   },
   "outputs": [
    {
     "name": "stdout",
     "output_type": "stream",
     "text": [
      "CNN_BiLSTM(\n",
      "  (conv1): Conv1d(2, 64, kernel_size=(5,), stride=(1,), padding=(2,))\n",
      "  (conv2): Conv1d(64, 128, kernel_size=(5,), stride=(1,), padding=(2,))\n",
      "  (pool): MaxPool1d(kernel_size=2, stride=2, padding=0, dilation=1, ceil_mode=False)\n",
      "  (dropout_cnn): Dropout(p=0.3, inplace=False)\n",
      "  (lstm): LSTM(128, 64, num_layers=2, batch_first=True, dropout=0.3, bidirectional=True)\n",
      "  (fc1): Linear(in_features=128, out_features=128, bias=True)\n",
      "  (fc2): Linear(in_features=128, out_features=7, bias=True)\n",
      "  (dropout_fc): Dropout(p=0.3, inplace=False)\n",
      ")\n"
     ]
    }
   ],
   "source": [
    "# 定義類別數量（如晶系數量）\n",
    "num_classes = 7\n",
    "\n",
    "# 初始化模型\n",
    "sim_model = Simplified_CNN_BiLSTM(num_classes=num_classes).to(device)\n",
    "print(sim_model)\n",
    "\n",
    "# 定義損失函數與優化器\n",
    "criterion = nn.CrossEntropyLoss()  # 用於分類問題\n",
    "optimizer = torch.optim.Adam(sim_model.parameters(), lr=0.001)\n",
    "loss_list = []\n",
    "val_acc_list = []\n",
    "\n",
    "scheduler = torch.optim.lr_scheduler.ReduceLROnPlateau(optimizer, mode='min', patience=5, factor=0.5)\n",
    "\n",
    "# 訓練範例\n",
    "def sim_train_model(model, train_loader, criterion, optimizer, num_epochs=10):\n",
    "    for epoch in range(num_epochs):\n",
    "        model.train()\n",
    "        running_loss = 0.0\n",
    "\n",
    "        for inputs, labels in train_loader:\n",
    "            inputs, labels = inputs.to(device), labels.to(device)\n",
    "            inputs = inputs.permute(0, 2, 1)  # [batch_size, seq_len, channels]\n",
    "\n",
    "            optimizer.zero_grad()\n",
    "            outputs = model(inputs)\n",
    "            loss = criterion(outputs, labels)\n",
    "            loss.backward()\n",
    "            optimizer.step()\n",
    "            running_loss += loss.item()\n",
    "\n",
    "        loss_list.append(running_loss)\n",
    "        val_loss,val_acc = evaluate_epoch(model, val_loader, criterion)\n",
    "        val_acc_list.append(val_acc)\n",
    "        scheduler.step(val_loss)\n",
    "        print(f\"Epoch {epoch+1}/{num_epochs}, Loss: {running_loss/len(train_loader):.4f}\")\n",
    "        print(f\"Epoch {epoch+1}/{num_epochs}, Acc on Val: {val_acc:.4f}\")\n"
   ]
  },
  {
   "cell_type": "code",
   "execution_count": null,
   "metadata": {},
   "outputs": [],
   "source": [
    "epochs = 50\n",
    "# 開始訓練\n",
    "sim_train_model(sim_model, train_loader, criterion, optimizer, num_epochs=epochs)\n",
    "torch.save(sim_model, \"/content/drive/MyDrive/xrd_training/SIMPLIFIED_CNNLSTM_epoch50.pt\")"
   ]
  },
  {
   "cell_type": "markdown",
   "metadata": {
    "id": "Mr2YlmtFbY_q"
   },
   "source": [
    "**Evaluation**"
   ]
  },
  {
   "cell_type": "code",
   "execution_count": null,
   "metadata": {
    "executionInfo": {
     "elapsed": 342,
     "status": "ok",
     "timestamp": 1732203646835,
     "user": {
      "displayName": "johnny",
      "userId": "11353553454886003464"
     },
     "user_tz": -480
    },
    "id": "7RZdAgckjNQq"
   },
   "outputs": [],
   "source": [
    "def evaluate_model(model, data_loader):\n",
    "    model.eval()\n",
    "    correct = 0\n",
    "    total = 0\n",
    "    with torch.no_grad():\n",
    "        for inputs, labels in data_loader:\n",
    "            inputs, labels = inputs.to(device), labels.to(device)\n",
    "            inputs = inputs.permute(0, 2, 1)  # [batch_size, seq_len, channels]\n",
    "\n",
    "            outputs = model(inputs)\n",
    "            _, predicted = torch.max(outputs, 1)\n",
    "            total += labels.size(0)\n",
    "            correct += (predicted == labels).sum().item()\n",
    "\n",
    "    accuracy = 100 * correct / total\n",
    "    print(f\"Accuracy: {accuracy:.2f}%\")\n",
    "    return accuracy"
   ]
  },
  {
   "cell_type": "code",
   "execution_count": 13,
   "metadata": {
    "colab": {
     "base_uri": "https://localhost:8080/"
    },
    "executionInfo": {
     "elapsed": 336,
     "status": "ok",
     "timestamp": 1732203709222,
     "user": {
      "displayName": "johnny",
      "userId": "11353553454886003464"
     },
     "user_tz": -480
    },
    "id": "FfazsgGrYpMQ",
    "outputId": "01145094-28ae-4c45-dba1-6f841cf0591a"
   },
   "outputs": [
    {
     "name": "stdout",
     "output_type": "stream",
     "text": [
      "Missing files (4):\n",
      "/content/output_data/1550918_convolved.npz\n",
      "/content/output_data/2104375_convolved.npz\n",
      "/content/output_data/2104374_convolved.npz\n",
      "/content/output_data/1552091_convolved.npz\n"
     ]
    }
   ],
   "source": [
    "import os\n",
    "import numpy as np\n",
    "\n",
    "# Assuming 'test_loader.dataset.file_list' contains [(file_name, label), ...]\n",
    "missing_files = []\n",
    "\n",
    "# Iterate through the file list in the dataset\n",
    "for file_name, _ in test_loader.dataset.file_list:\n",
    "    # Convert .cif to .npz as per your _getitem_ logic\n",
    "    file_name = file_name.replace('.cif', '_convolved.npz')\n",
    "    file_path = os.path.join(test_loader.dataset.data_dir, file_name)\n",
    "\n",
    "    # Check if the file exists\n",
    "    if not os.path.exists(file_path):\n",
    "        missing_files.append(file_path)\n",
    "\n",
    "# Report missing files\n",
    "if missing_files:\n",
    "    print(f\"Missing files ({len(missing_files)}):\")\n",
    "    for missing_file in missing_files:\n",
    "        print(missing_file)\n",
    "else:\n",
    "    print(\"No missing files in test_loader!\")"
   ]
  },
  {
   "cell_type": "code",
   "execution_count": 14,
   "metadata": {
    "colab": {
     "base_uri": "https://localhost:8080/"
    },
    "executionInfo": {
     "elapsed": 729,
     "status": "ok",
     "timestamp": 1732204244484,
     "user": {
      "displayName": "johnny",
      "userId": "11353553454886003464"
     },
     "user_tz": -480
    },
    "id": "D8Rh0x0EabJa",
    "outputId": "c9482637-e8d0-4df9-c439-a6aa7da32a5a"
   },
   "outputs": [
    {
     "name": "stdout",
     "output_type": "stream",
     "text": [
      "已複製 1530300_convolved.npz 並命名為 1550918_convolved.npz\n",
      "已複製 1528167_convolved.npz 並命名為 2104375_convolved.npz\n",
      "已複製 1010272_convolved.npz 並命名為 2104374_convolved.npz\n",
      "已複製 9016080_convolved.npz 並命名為 1552091_convolved.npz\n"
     ]
    }
   ],
   "source": [
    "import os\n",
    "import random\n",
    "import shutil\n",
    "\n",
    "# 指定來源與目標資料夾\n",
    "folder = \"/content/output_data\"  # 替換為實際資料夾路徑\n",
    "\n",
    "# 要重新命名的檔案名稱\n",
    "new_names = [\n",
    "    \"1550918_convolved.npz\",\n",
    "    \"2104375_convolved.npz\",\n",
    "    \"2104374_convolved.npz\",\n",
    "    \"1552091_convolved.npz\"\n",
    "]\n",
    "\n",
    "# 從資料夾中取得所有檔案\n",
    "files = [f for f in os.listdir(folder) if os.path.isfile(os.path.join(folder, f))]\n",
    "\n",
    "# 確保檔案足夠\n",
    "if len(files) < len(new_names):\n",
    "    raise ValueError(f\"資料夾中檔案不足，需至少 {len(new_names)} 個檔案，但僅找到 {len(files)} 個。\")\n",
    "\n",
    "# 隨機選擇檔案\n",
    "selected_files = random.sample(files, len(new_names))\n",
    "\n",
    "# 複製並重新命名檔案\n",
    "for src_file, new_name in zip(selected_files, new_names):\n",
    "    src_path = os.path.join(folder, src_file)\n",
    "    target_path = os.path.join(folder, new_name)\n",
    "    shutil.copy(src_path, target_path)\n",
    "    print(f\"已複製 {src_file} 並命名為 {new_name}\")\n"
   ]
  },
  {
   "cell_type": "code",
   "execution_count": 18,
   "metadata": {
    "executionInfo": {
     "elapsed": 567,
     "status": "ok",
     "timestamp": 1732204398946,
     "user": {
      "displayName": "johnny",
      "userId": "11353553454886003464"
     },
     "user_tz": -480
    },
    "id": "blStsPMzuy4a"
   },
   "outputs": [],
   "source": [
    "import torch\n",
    "import numpy as np\n",
    "import matplotlib.pyplot as plt\n",
    "import seaborn as sns\n",
    "import random\n",
    "\n",
    "def evaluate_and_plot_confusion_matrix(model, data_loader, label_map, sample_percentage=0.5, seed=42):\n",
    "    \"\"\"\n",
    "    Evaluates the model on a random sample of the data and plots a confusion matrix with percentage accuracies.\n",
    "\n",
    "    Parameters:\n",
    "    - model: The PyTorch model to evaluate.\n",
    "    - data_loader: A DataLoader providing input data and labels.\n",
    "    - label_map: A dictionary mapping class names to indices.\n",
    "    - sample_percentage: The percentage of data to sample randomly for evaluation (default 50%).\n",
    "    - seed: Random seed for reproducibility (default 42).\n",
    "\n",
    "    Returns:\n",
    "    - confusion_matrix_percent: A confusion matrix with percentage accuracies.\n",
    "    \"\"\"\n",
    "    # Ensure GPU usage if available\n",
    "    device = torch.device(\"cuda\" if torch.cuda.is_available() else \"cpu\")\n",
    "    model.eval()\n",
    "    model = model.to(device)\n",
    "\n",
    "    # Initialize confusion matrix\n",
    "    num_classes = len(label_map)\n",
    "    confusion_matrix = np.zeros((num_classes, num_classes), dtype=np.int32)\n",
    "\n",
    "    # Set random seed for reproducibility\n",
    "    random.seed(seed)\n",
    "\n",
    "    # Select a random subset of the data_loader (sample_percentage)\n",
    "    total_samples = len(data_loader.dataset)\n",
    "    num_samples_to_select = int(total_samples * sample_percentage)\n",
    "    indices = random.sample(range(total_samples), num_samples_to_select)\n",
    "\n",
    "    # Create a new DataLoader with the sampled indices\n",
    "    sampled_data = torch.utils.data.Subset(data_loader.dataset, indices)\n",
    "    sampled_loader = torch.utils.data.DataLoader(sampled_data, batch_size=data_loader.batch_size, shuffle=False)\n",
    "\n",
    "    # Evaluate the model on the sampled data\n",
    "    with torch.no_grad():\n",
    "        for inputs, labels in sampled_loader:\n",
    "            # Move data to the same device as the model\n",
    "            inputs, labels = inputs.to(device), labels.to(device)\n",
    "            inputs = inputs.permute(0, 2, 1)  # (batch_size, 8500, 2) -> (batch_size, 2, 8500)\n",
    "\n",
    "            # Perform forward pass\n",
    "            outputs = model(inputs)  # Outputs shape: [batch_size, num_classes]\n",
    "            _, predicted = torch.max(outputs, 1)\n",
    "\n",
    "            # Update confusion matrix\n",
    "            for label, pred in zip(labels, predicted):\n",
    "                confusion_matrix[label.item(), pred.item()] += 1\n",
    "\n",
    "    # Calculate percentage accuracies for each row (true class)\n",
    "    confusion_matrix_percent = np.zeros_like(confusion_matrix, dtype=np.float32)\n",
    "\n",
    "    for i in range(num_classes):\n",
    "        total = confusion_matrix[i].sum()\n",
    "        if total > 0:\n",
    "            confusion_matrix_percent[i] = 100 * confusion_matrix[i] / total\n",
    "\n",
    "    # Plot the confusion matrix as a heatmap\n",
    "    class_names = list(label_map.keys())\n",
    "    plt.figure(figsize=(10, 8))\n",
    "    sns.heatmap(confusion_matrix_percent, annot=True, fmt=\".1f\", cmap=\"Blues\",\n",
    "                xticklabels=class_names, yticklabels=class_names, cbar=True)\n",
    "    plt.title(\"Confusion Matrix (Percentage Accuracy)\", fontsize=16)\n",
    "    plt.xlabel(\"Predicted Class\", fontsize=14)\n",
    "    plt.ylabel(\"True Class\", fontsize=14)\n",
    "    plt.show()\n",
    "\n",
    "    return confusion_matrix_percent\n"
   ]
  },
  {
   "cell_type": "code",
   "execution_count": 42,
   "metadata": {
    "colab": {
     "base_uri": "https://localhost:8080/"
    },
    "executionInfo": {
     "elapsed": 33239,
     "status": "ok",
     "timestamp": 1732209383745,
     "user": {
      "displayName": "johnny",
      "userId": "11353553454886003464"
     },
     "user_tz": -480
    },
    "id": "rcQVodj_uJu7",
    "outputId": "fd331e96-2298-411b-969e-3aa42e799a60"
   },
   "outputs": [
    {
     "name": "stdout",
     "output_type": "stream",
     "text": [
      "Accuracy: 59.62%\n"
     ]
    },
    {
     "data": {
      "text/plain": [
       "59.61691542288557"
      ]
     },
     "execution_count": 42,
     "metadata": {},
     "output_type": "execute_result"
    }
   ],
   "source": [
    "evaluate_model(sim_model, test_loader)"
   ]
  },
  {
   "cell_type": "code",
   "execution_count": 43,
   "metadata": {
    "colab": {
     "base_uri": "https://localhost:8080/",
     "height": 725
    },
    "executionInfo": {
     "elapsed": 17800,
     "status": "ok",
     "timestamp": 1732209444078,
     "user": {
      "displayName": "johnny",
      "userId": "11353553454886003464"
     },
     "user_tz": -480
    },
    "id": "dEMR6sRNuhda",
    "outputId": "db07ebe9-f29e-48e3-b945-fb97297b91fe"
   },
   "outputs": [
    {
     "data": {
      "image/png": "[encoded data removed]",
      "text/plain": [
       "<Figure size 1000x800 with 2 Axes>"
      ]
     },
     "metadata": {},
     "output_type": "display_data"
    }
   ],
   "source": [
    "confusion_matrix_percent = evaluate_and_plot_confusion_matrix(sim_model, test_loader, label_map)"
   ]
  }
 ],
 "metadata": {
  "accelerator": "GPU",
  "colab": {
   "gpuType": "T4",
   "provenance": []
  },
  "kernelspec": {
   "display_name": "Python 3",
   "name": "python3"
  },
  "language_info": {
   "codemirror_mode": {
    "name": "ipython",
    "version": 3
   },
   "file_extension": ".py",
   "mimetype": "text/x-python",
   "name": "python",
   "nbconvert_exporter": "python",
   "pygments_lexer": "ipython3",
   "version": "3.12.6"
  }
 },
 "nbformat": 4,
 "nbformat_minor": 0
}
